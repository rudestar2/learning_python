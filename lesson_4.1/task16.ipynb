{
 "cells": [
  {
   "cell_type": "code",
   "execution_count": 1,
   "metadata": {
    "collapsed": true
   },
   "outputs": [],
   "source": [
    "import pandas as pd"
   ]
  },
  {
   "cell_type": "code",
   "execution_count": 2,
   "metadata": {
    "collapsed": false
   },
   "outputs": [
    {
     "data": {
      "text/html": [
       "<div>\n",
       "<table border=\"1\" class=\"dataframe\">\n",
       "  <thead>\n",
       "    <tr style=\"text-align: right;\">\n",
       "      <th></th>\n",
       "      <th>Name</th>\n",
       "      <th>Gender</th>\n",
       "      <th>Count</th>\n",
       "    </tr>\n",
       "  </thead>\n",
       "  <tbody>\n",
       "    <tr>\n",
       "      <th>2988</th>\n",
       "      <td>James</td>\n",
       "      <td>M</td>\n",
       "      <td>287386</td>\n",
       "    </tr>\n",
       "    <tr>\n",
       "      <th>2989</th>\n",
       "      <td>Robert</td>\n",
       "      <td>M</td>\n",
       "      <td>274377</td>\n",
       "    </tr>\n",
       "    <tr>\n",
       "      <th>2990</th>\n",
       "      <td>John</td>\n",
       "      <td>M</td>\n",
       "      <td>268875</td>\n",
       "    </tr>\n",
       "  </tbody>\n",
       "</table>\n",
       "</div>"
      ],
      "text/plain": [
       "        Name Gender   Count\n",
       "2988   James      M  287386\n",
       "2989  Robert      M  274377\n",
       "2990    John      M  268875"
      ]
     },
     "execution_count": 2,
     "metadata": {},
     "output_type": "execute_result"
    }
   ],
   "source": [
    "def row_count(row):\n",
    "            row.Count = row.Count + row[-1]\n",
    "            return row\n",
    "\n",
    "\n",
    "def count_top3(years_list):\n",
    "    df = pd.DataFrame()\n",
    "    for year in years_list:\n",
    "        file = '/home/daniil/Projects/learning_python/lesson_4.1/names/yob{}.txt'.format(year)\n",
    "        names = pd.read_csv(file, names=['Name', 'Gender', 'Count'])\n",
    "        if df.empty:\n",
    "            df = df.append(names)\n",
    "        else:\n",
    "            df = pd.merge(df, names, on=['Name', 'Gender'], suffixes=['', '_{}'.format(year)]).apply(row_count, axis=1)\n",
    "            df = df.ix[:, 0:3]\n",
    "    return df.sort_values(by='Count', ascending=False).head(3)\n",
    "\n",
    "\n",
    "count_top3([1940, 1950, 1960, 1970])"
   ]
  },
  {
   "cell_type": "code",
   "execution_count": 71,
   "metadata": {
    "collapsed": false
   },
   "outputs": [
    {
     "data": {
      "text/plain": [
       "{'F': [90992, 1198287, 1713450], 'M': [110490, 1064445, 1791474]}"
      ]
     },
     "execution_count": 71,
     "metadata": {},
     "output_type": "execute_result"
    }
   ],
   "source": [
    "def count_dynamics(years_list):\n",
    "    dynamics = {\n",
    "        'M': [],\n",
    "        'F': []\n",
    "    }\n",
    "    for year in years_list:\n",
    "        file = '/home/daniil/Projects/learning_python/lesson_4.1/names/yob{}.txt'.format(year)\n",
    "        names = pd.read_csv(file, names=['Name', 'Gender', 'Count'])\n",
    "        dynamics['M'].append(names[names.Gender == 'M'].Count.sum())\n",
    "        dynamics['F'].append(names[names.Gender == 'F'].Count.sum())\n",
    "    return dynamics\n",
    "\n",
    "\n",
    "count_dynamics([1880, 1920, 1950])"
   ]
  },
  {
   "cell_type": "code",
   "execution_count": null,
   "metadata": {
    "collapsed": true
   },
   "outputs": [],
   "source": []
  }
 ],
 "metadata": {
  "anaconda-cloud": {},
  "kernelspec": {
   "display_name": "Python [default]",
   "language": "python",
   "name": "python3"
  },
  "language_info": {
   "codemirror_mode": {
    "name": "ipython",
    "version": 3
   },
   "file_extension": ".py",
   "mimetype": "text/x-python",
   "name": "python",
   "nbconvert_exporter": "python",
   "pygments_lexer": "ipython3",
   "version": "3.5.2"
  }
 },
 "nbformat": 4,
 "nbformat_minor": 1
}
