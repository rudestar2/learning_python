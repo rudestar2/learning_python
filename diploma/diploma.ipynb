{
 "cells": [
  {
   "cell_type": "code",
   "execution_count": 2,
   "metadata": {
    "collapsed": false
   },
   "outputs": [],
   "source": [
    "import json\n",
    "import time\n",
    "import datetime"
   ]
  },
  {
   "cell_type": "code",
   "execution_count": 26,
   "metadata": {
    "collapsed": true
   },
   "outputs": [],
   "source": [
    "import vk\n",
    "import numpy as np\n",
    "import pandas as pd\n",
    "import user_info as ui\n",
    "import matplotlib.pyplot as plt\n",
    "\n",
    "%matplotlib inline"
   ]
  },
  {
   "cell_type": "code",
   "execution_count": 4,
   "metadata": {
    "collapsed": true
   },
   "outputs": [],
   "source": [
    "SESSION = vk.AuthSession(app_id=ui.APP_ID, user_login=ui.USER_LOGIN, user_password=ui.USER_PASSWORD)\n",
    "API = vk.API(SESSION)"
   ]
  },
  {
   "cell_type": "code",
   "execution_count": 5,
   "metadata": {
    "collapsed": false
   },
   "outputs": [],
   "source": [
    "def get_group_id(groups_list):\n",
    "    \"\"\"\n",
    "    Получение id группы по названию\n",
    "    :param groups_list: <list>\n",
    "    :return: <list>\n",
    "    \"\"\"\n",
    "    for group in groups_list:\n",
    "        for item in API.groups.search(q=group['title'])[1:]:\n",
    "            if group['title'] == item['name']:\n",
    "                group['id'] = item['gid']\n",
    "    return groups_list"
   ]
  },
  {
   "cell_type": "code",
   "execution_count": 6,
   "metadata": {
    "collapsed": false
   },
   "outputs": [],
   "source": [
    "def get_members(group_id):\n",
    "    \"\"\"\n",
    "    Получение пола и возраста пользователей группы\n",
    "    :param group_id: <int>\n",
    "    :return: <list>\n",
    "    \"\"\"\n",
    "    members = []\n",
    "    offset = 0\n",
    "    while True:\n",
    "        response = API.groups.getMembers(group_id=group_id, offset=offset, fields=['sex', 'bdate'])\n",
    "        members.extend(response['users'])\n",
    "        offset += 1000\n",
    "        # Создание задержки из-за ограничения на количество запросов в секунду\n",
    "        if offset >= 3000:\n",
    "            time.sleep(0.34)\n",
    "        if offset >= response['count']:\n",
    "            break\n",
    "    return members"
   ]
  },
  {
   "cell_type": "code",
   "execution_count": 7,
   "metadata": {
    "collapsed": true
   },
   "outputs": [],
   "source": [
    "def gender_count(members_list):\n",
    "    \"\"\"\n",
    "    Разделение пользователей группы по полам\n",
    "    :param members_list: <list>\n",
    "    :return: <dict>\n",
    "    \"\"\"\n",
    "    genders = {'Female': 0, 'Male': 0}\n",
    "    for member in members_list:\n",
    "        if member['sex'] == 1:\n",
    "            genders['Female'] += 1\n",
    "        elif member['sex'] == 2:\n",
    "            genders['Male'] += 1\n",
    "    return genders"
   ]
  },
  {
   "cell_type": "code",
   "execution_count": 8,
   "metadata": {
    "collapsed": true
   },
   "outputs": [],
   "source": [
    "def get_year(date):\n",
    "    \"\"\"\n",
    "    Получение года из даты рождения\n",
    "    :param date: <str>\n",
    "    :return: <str> or <None>\n",
    "    \"\"\"\n",
    "    if date.count('.') == 2:\n",
    "        return date[-4:]"
   ]
  },
  {
   "cell_type": "code",
   "execution_count": 35,
   "metadata": {
    "collapsed": true
   },
   "outputs": [],
   "source": [
    "def age_count(members_list):\n",
    "    \"\"\"\n",
    "    Разделение пользователей группы по годам\n",
    "    :param members_list: <list>\n",
    "    :return: <dict>\n",
    "    \"\"\"\n",
    "    current_year = datetime.datetime.now().year\n",
    "    ages = {}\n",
    "    for member in members_list:\n",
    "        if 'bdate' in member:\n",
    "            year = get_year(member['bdate'])\n",
    "            if year is not None:\n",
    "                age = current_year - int(year)\n",
    "                ages.setdefault(age, 0)\n",
    "                ages[age] += 1\n",
    "    return ages"
   ]
  },
  {
   "cell_type": "code",
   "execution_count": 10,
   "metadata": {
    "collapsed": true
   },
   "outputs": [],
   "source": [
    "with open('top100.json') as file:\n",
    "    groups = get_group_id(json.load(file)[0:5])"
   ]
  },
  {
   "cell_type": "code",
   "execution_count": 36,
   "metadata": {
    "collapsed": false
   },
   "outputs": [],
   "source": [
    "group_number = 1\n",
    "for group in groups:\n",
    "    with open('group{}.json'.format(str(group_number)), 'w') as file:\n",
    "        group_info = []\n",
    "        members = get_members(group['id'])\n",
    "        genders = gender_count(members)\n",
    "        ages = age_count(members)\n",
    "        group_info.append({'name': group['title']})\n",
    "        group_info.append(genders)\n",
    "        group_info.append(ages)\n",
    "        json.dump(group_info, file, indent=2, ensure_ascii=False)\n",
    "    group_number += 1"
   ]
  },
  {
   "cell_type": "code",
   "execution_count": null,
   "metadata": {
    "collapsed": true
   },
   "outputs": [],
   "source": [
    "# Во избежании копипасты: для каждой из групп необходимо выполнить\n",
    "# следующие три ячейки, меняя только номер группы в названии файла.\n",
    "# В принципе, можно даже не давать номера переменным, а использовать\n",
    "# одни и те же, если нет необходимости в доступе к каждому датафрейму."
   ]
  },
  {
   "cell_type": "code",
   "execution_count": 37,
   "metadata": {
    "collapsed": false
   },
   "outputs": [],
   "source": [
    "with open('group1.json') as file:\n",
    "    group1 = json.load(file)\n",
    "    genders1 = pd.DataFrame(list(group1[1].items()), columns=['Gender', 'Count'])\n",
    "    ages1 = pd.DataFrame(list(group1[2].items()), columns=['Age', 'Count'])"
   ]
  },
  {
   "cell_type": "code",
   "execution_count": null,
   "metadata": {
    "collapsed": true
   },
   "outputs": [],
   "source": [
    "genders1.plot(kind='bar', title ='Распределение полов', x='Gender', legend=False)"
   ]
  },
  {
   "cell_type": "code",
   "execution_count": null,
   "metadata": {
    "collapsed": true
   },
   "outputs": [],
   "source": [
    "ages1.sort_values(by='Age').plot(kind='bar', title ='Возраст', x='Age', legend=False)"
   ]
  }
 ],
 "metadata": {
  "kernelspec": {
   "display_name": "Python [default]",
   "language": "python",
   "name": "python3"
  },
  "language_info": {
   "codemirror_mode": {
    "name": "ipython",
    "version": 3
   },
   "file_extension": ".py",
   "mimetype": "text/x-python",
   "name": "python",
   "nbconvert_exporter": "python",
   "pygments_lexer": "ipython3",
   "version": "3.5.2"
  }
 },
 "nbformat": 4,
 "nbformat_minor": 0
}
